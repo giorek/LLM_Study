{
 "cells": [
  {
   "cell_type": "code",
   "execution_count": 8,
   "id": "9b8b5249",
   "metadata": {},
   "outputs": [
    {
     "ename": "NameError",
     "evalue": "name 'dashscope' is not defined",
     "output_type": "error",
     "traceback": [
      "\u001b[31m---------------------------------------------------------------------------\u001b[39m",
      "\u001b[31mNameError\u001b[39m                                 Traceback (most recent call last)",
      "\u001b[36mCell\u001b[39m\u001b[36m \u001b[39m\u001b[32mIn[8]\u001b[39m\u001b[32m, line 15\u001b[39m\n\u001b[32m     11\u001b[39m os.environ[\u001b[33m'\u001b[39m\u001b[33mDASHSCOPE_API_KEY\u001b[39m\u001b[33m'\u001b[39m]= \u001b[33m'\u001b[39m\u001b[33msk-e37b6feeb62f492bb01828119d588fc4\u001b[39m\u001b[33m'\u001b[39m\n\u001b[32m     13\u001b[39m \u001b[38;5;66;03m# 设置通义千问API密钥\u001b[39;00m\n\u001b[32m     14\u001b[39m \u001b[38;5;66;03m#DASHSCOPE_API_KEY = 'sk-e37b6feeb62f492bb01828119d588fc4'\u001b[39;00m\n\u001b[32m---> \u001b[39m\u001b[32m15\u001b[39m dashscope.api_key=\u001b[33m'\u001b[39m\u001b[33msk-e37b6feeb62f492bb01828119d588fc4\u001b[39m\u001b[33m'\u001b[39m\n\u001b[32m     17\u001b[39m \u001b[38;5;66;03m# 加载模型\u001b[39;00m\n\u001b[32m     18\u001b[39m \u001b[38;5;66;03m#llm = Tongyi(model_name=\"qwen-plus\", dashscope_api_key=DASHSCOPE_API_KEY)  # 使用通义千问qwen-turbo模型\u001b[39;00m\n\u001b[32m     19\u001b[39m llm = Tongyi(model_name=\u001b[33m\"\u001b[39m\u001b[33mqwen-plus\u001b[39m\u001b[33m\"\u001b[39m)  \u001b[38;5;66;03m# 使用通义千问qwen-turbo模型\u001b[39;00m\n",
      "\u001b[31mNameError\u001b[39m: name 'dashscope' is not defined"
     ]
    }
   ],
   "source": [
    "import os\n",
    "from langchain.agents import load_tools\n",
    "from langchain.agents import initialize_agent\n",
    "from langchain_community.llms import Tongyi  # 导入通义千问Tongyi模型\n",
    "from langchain.agents import AgentType\n",
    "\n",
    "# 你需要在环境变量中添加 OPENAI_API_KEY 和 SERPAPI_API_KEY\n",
    "#os.environ[\"OPENAI_API_KEY\"] = '*******'\n",
    "#os.environ[\"SERPAPI_API_KEY\"] = '*******'\n",
    "os.environ['SERPAPI_API_KEY']='2091bb31963b118ba72121e77b8ffac7e1a82a5fd0d22bf22de52c2c05a1b75d'\n",
    "os.environ['DASHSCOPE_API_KEY']= 'sk-e37b6feeb62f492bb01828119d588fc4'\n",
    " \n",
    "# 设置通义千问API密钥\n",
    "#DASHSCOPE_API_KEY = 'sk-e37b6feeb62f492bb01828119d588fc4'\n",
    "dashscope.api_key='sk-e37b6feeb62f492bb01828119d588fc4'\n",
    "\n",
    "# 加载模型\n",
    "llm = Tongyi(model_name=\"qwen-plus\", api_key=DASHSCOPE_API_KEY)  # 使用通义千问qwen-turbo模型\n",
    "#llm = Tongyi(model_name=\"qwen-plus\")  # 使用通义千问qwen-turbo模型\n",
    "\n",
    "# 加载 serpapi 工具\n",
    "tools = load_tools([\"serpapi\"])\n",
    " \n",
    "\"\"\"\n",
    "agent：代理类型  \n",
    "    zero-shot-react-description: 根据工具的描述和请求内容的来决定使用哪个工具（最常用）\n",
    "    react-docstore: 使用 ReAct 框架和 docstore 交互, 使用Search 和Lookup 工具, 前者用来搜, 后者寻找term, 举例: Wipipedia 工具\n",
    "    self-ask-with-search 此代理只使用一个工具: Intermediate Answer, 它会为问题寻找事实答案(指的非 gpt 生成的答案, 而是在网络中,文本中已存在的), 如 Google search API 工具\n",
    "    conversational-react-description: 为会话设置而设计的代理, 它的prompt会被设计的具有会话性, 且还是会使用 ReAct 框架来决定使用来个工具, 并且将过往的会话交互存入内存\n",
    "\"\"\"\n",
    "# 工具加载后需要初始化，verbose=True 代表打印执行详情\n",
    "agent = initialize_agent(tools, llm, agent=AgentType.ZERO_SHOT_REACT_DESCRIPTION, verbose=True)\n",
    " \n",
    "# 运行 agent\n",
    "agent.run(\"今天是几月几号?历史上的今天有哪些名人出生\")"
   ]
  },
  {
   "cell_type": "code",
   "execution_count": 1,
   "id": "f8890f6e",
   "metadata": {},
   "outputs": [
    {
     "ename": "NameError",
     "evalue": "name 'os' is not defined",
     "output_type": "error",
     "traceback": [
      "\u001b[31m---------------------------------------------------------------------------\u001b[39m",
      "\u001b[31mNameError\u001b[39m                                 Traceback (most recent call last)",
      "\u001b[36mCell\u001b[39m\u001b[36m \u001b[39m\u001b[32mIn[1]\u001b[39m\u001b[32m, line 1\u001b[39m\n\u001b[32m----> \u001b[39m\u001b[32m1\u001b[39m os.getenv(\u001b[33m\"\u001b[39m\u001b[33mSERPAPI_API_KEY\u001b[39m\u001b[33m\"\u001b[39m)\n",
      "\u001b[31mNameError\u001b[39m: name 'os' is not defined"
     ]
    }
   ],
   "source": [
    "os.getenv(\"SERPAPI_API_KEY\")"
   ]
  },
  {
   "cell_type": "code",
   "execution_count": null,
   "id": "f526b913-2a77-4eda-85fd-e574d4f0f7e4",
   "metadata": {},
   "outputs": [],
   "source": []
  }
 ],
 "metadata": {
  "kernelspec": {
   "display_name": "Python 3 (ipykernel)",
   "language": "python",
   "name": "python3"
  },
  "language_info": {
   "codemirror_mode": {
    "name": "ipython",
    "version": 3
   },
   "file_extension": ".py",
   "mimetype": "text/x-python",
   "name": "python",
   "nbconvert_exporter": "python",
   "pygments_lexer": "ipython3",
   "version": "3.12.11"
  }
 },
 "nbformat": 4,
 "nbformat_minor": 5
}
