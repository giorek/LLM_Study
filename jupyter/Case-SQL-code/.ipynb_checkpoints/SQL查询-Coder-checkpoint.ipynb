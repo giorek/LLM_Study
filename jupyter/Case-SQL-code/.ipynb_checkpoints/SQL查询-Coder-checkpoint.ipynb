{
 "cells": [
  {
   "cell_type": "code",
   "execution_count": null,
   "id": "c605d361-5e8b-4cf3-b3e3-01d115ba26fe",
   "metadata": {},
   "outputs": [],
   "source": [
    "## 使用Qwen-coder，对保险客户数据表进行SQL查询"
   ]
  },
  {
   "cell_type": "code",
   "execution_count": 5,
   "id": "195ea5c7",
   "metadata": {
    "tags": []
   },
   "outputs": [],
   "source": [
    "import json\n",
    "import os\n",
    "import dashscope\n",
    "from dashscope.api_entities.dashscope_response import Role\n",
    "import time\n",
    "import pandas as pd\n",
    "import re\n",
    "\n",
    "# 设置API密钥\n",
    "dashscope.api_key = \"sk-e37b6feeb62f492bb01828119d588fc4\" \n",
    "\n",
    "# 封装模型响应函数\n",
    "def get_response(messages):\n",
    "    response = dashscope.Generation.call(\n",
    "        model='qwen-coder-plus',\n",
    "        messages=messages,\n",
    "        result_format='message'  # 将输出设置为message形式\n",
    "    )\n",
    "    return response\n",
    "\n",
    "# 从模型响应中提取SQL代码\n",
    "def get_sql_code(response):\n",
    "    # 查找```sql和```之间的内容\n",
    "    pattern = r'```sql(.*?)```'\n",
    "    match = re.search(pattern, response.output.choices[0].message.content, re.DOTALL)\n",
    "    if match:\n",
    "        return match.group(1).strip()\n",
    "    else:\n",
    "        # 如果没有找到```sql标记，尝试查找任何```之间的内容\n",
    "        pattern = r'```(.*?)```'\n",
    "        match = re.search(pattern, response.output.choices[0].message.content, re.DOTALL)\n",
    "        if match:\n",
    "            return match.group(1).strip()\n",
    "        else:\n",
    "            # 如果没有找到任何代码块，返回整个响应\n",
    "            return response.output.choices[0].message.content\n",
    "\n",
    "# 得到sql\n",
    "def get_sql(query):\n",
    "    start_time = time.time()\n",
    "    sys_prompt = \"\"\"我正在编写SQL，以下是数据库中的数据表和字段，请思考：哪些数据表和字段是该SQL需要的，然后编写对应的SQL，如果有多个查询语句，请尝试合并为一个。编写SQL请采用```sql\n",
    "    \"\"\"\n",
    "    user_prompt = f\"\"\"-- language: SQL\n",
    "### Question: {query}\n",
    "### Input: {create_sql}\n",
    "### Response:\n",
    "Here is the SQL query I have generated to answer the question `{query}`:\n",
    "```sql\n",
    "\"\"\"\n",
    "\n",
    "    messages = [\n",
    "        {\"role\": \"system\", \"content\": sys_prompt},\n",
    "        {\"role\": \"user\", \"content\": user_prompt}\n",
    "    ]\n",
    "    \n",
    "    response = get_response(messages)\n",
    "    return response\n",
    "\n",
    "\n",
    "######## 需要人工设置 ########\n",
    "save_file = f'sql_result_qwen_coder.xlsx'\n",
    "qa_file = './data/qa_list-2.txt'                  # QA测试题\n",
    "sql_file = './data/create_sql.txt'           # SQL数据表"
   ]
  },
  {
   "cell_type": "code",
   "execution_count": 7,
   "id": "1111f312-9bce-4480-8c46-32442c1957d8",
   "metadata": {
    "tags": []
   },
   "outputs": [
    {
     "name": "stdout",
     "output_type": "stream",
     "text": [
      "获取所有客户的姓名和联系电话。\n",
      "SQL生成时间： 0.06\n",
      "{\"status_code\": 401, \"request_id\": \"4beaeafb-a0fb-91aa-acac-bc55341ed2c7\", \"code\": \"InvalidApiKey\", \"message\": \"Invalid API-key provided.\", \"output\": null, \"usage\": null}\n"
     ]
    },
    {
     "ename": "AttributeError",
     "evalue": "'NoneType' object has no attribute 'choices'",
     "output_type": "error",
     "traceback": [
      "\u001b[31m---------------------------------------------------------------------------\u001b[39m",
      "\u001b[31mAttributeError\u001b[39m                            Traceback (most recent call last)",
      "\u001b[36mCell\u001b[39m\u001b[36m \u001b[39m\u001b[32mIn[7]\u001b[39m\u001b[32m, line 25\u001b[39m\n\u001b[32m     23\u001b[39m \u001b[38;5;28mprint\u001b[39m(\u001b[33m'\u001b[39m\u001b[33mSQL生成时间：\u001b[39m\u001b[33m'\u001b[39m, use_time)\n\u001b[32m     24\u001b[39m \u001b[38;5;28mprint\u001b[39m(response)\n\u001b[32m---> \u001b[39m\u001b[32m25\u001b[39m \u001b[38;5;28mprint\u001b[39m(\u001b[33m'\u001b[39m\u001b[33mresponse=\u001b[39m\u001b[33m'\u001b[39m, response.output.choices[\u001b[32m0\u001b[39m].message.content)\n\u001b[32m     26\u001b[39m \u001b[38;5;66;03m# 提取生成的SQL\u001b[39;00m\n\u001b[32m     27\u001b[39m sql = get_sql_code(response)\n",
      "\u001b[31mAttributeError\u001b[39m: 'NoneType' object has no attribute 'choices'"
     ]
    }
   ],
   "source": [
    "# 读取 SQL数据表\n",
    "with open(sql_file, 'r', encoding='utf-8') as file:\n",
    "    create_sql = file.read()\n",
    "# 读取 SQL问题列表\n",
    "with open(qa_file, 'r', encoding='utf-8') as file:\n",
    "    qa_list = file.read()\n",
    "qa_list = qa_list.split('=====')\n",
    "\n",
    "# 保存SQL结果\n",
    "sql_list = []\n",
    "markdown_list = []\n",
    "time_list = []\n",
    "for qa in qa_list:\n",
    "    query = qa\n",
    "    query = query.replace('\\n', '')\n",
    "    print(query)\n",
    "    start_time = time.time()\n",
    "    # 请求生成sql\n",
    "    #content, prompt_len = get_sql(query)\n",
    "    response = get_sql(query)\n",
    "    use_time = round(time.time()-start_time, 2)\n",
    "    time_list.append(use_time)\n",
    "    print('SQL生成时间：', use_time)\n",
    "    print(response)\n",
    "    print('response=', response.output.choices[0].message.content)\n",
    "    # 提取生成的SQL\n",
    "    sql = get_sql_code(response)\n",
    "    print('SQL: {}'.format(sql))\n",
    "    sql_list.append(sql)"
   ]
  },
  {
   "cell_type": "code",
   "execution_count": null,
   "id": "85685cc2-bb57-4bb8-b73b-2fd188f068ef",
   "metadata": {},
   "outputs": [],
   "source": [
    "result = pd.DataFrame(columns=['QA', 'SQL', 'time'])\n",
    "result['QA'] = qa_list\n",
    "result['SQL'] = sql_list\n",
    "result['time'] = time_list\n",
    "result.to_excel(save_file, index=False)\n",
    "result"
   ]
  }
 ],
 "metadata": {
  "kernelspec": {
   "display_name": "py312",
   "language": "python",
   "name": "py312"
  },
  "language_info": {
   "codemirror_mode": {
    "name": "ipython",
    "version": 3
   },
   "file_extension": ".py",
   "mimetype": "text/x-python",
   "name": "python",
   "nbconvert_exporter": "python",
   "pygments_lexer": "ipython3",
   "version": "3.12.11"
  }
 },
 "nbformat": 4,
 "nbformat_minor": 5
}
