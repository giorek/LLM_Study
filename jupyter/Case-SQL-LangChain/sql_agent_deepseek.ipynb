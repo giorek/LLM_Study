{
 "cells": [
  {
   "cell_type": "markdown",
   "id": "6b68edc5-77f7-4e4c-83b5-eb6c6de36f9a",
   "metadata": {},
   "source": [
    "## 使用DeepSeek进行数据表的查询"
   ]
  },
  {
   "cell_type": "code",
   "execution_count": 2,
   "id": "b2381dc3",
   "metadata": {},
   "outputs": [
    {
     "data": {
      "text/plain": [
       "<langchain_community.utilities.sql_database.SQLDatabase at 0x10d1f48f0>"
      ]
     },
     "execution_count": 2,
     "metadata": {},
     "output_type": "execute_result"
    }
   ],
   "source": [
    "from langchain.agents import create_sql_agent\n",
    "from langchain.agents.agent_toolkits import SQLDatabaseToolkit\n",
    "from langchain.sql_database import SQLDatabase\n",
    "from langchain.llms.openai import OpenAI\n",
    "from langchain.agents import AgentExecutor\n",
    "\n",
    "db_user = \"student123\"\n",
    "db_password = \"student321\"\n",
    "#db_host = \"localhost:3306\"\n",
    "db_host = \"rm-uf6z891lon6dxuqblqo.mysql.rds.aliyuncs.com:3306\"\n",
    "db_name = \"action\"\n",
    "db = SQLDatabase.from_uri(f\"mysql+pymysql://{db_user}:{db_password}@{db_host}/{db_name}\")\n",
    "db"
   ]
  },
  {
   "cell_type": "code",
   "execution_count": 4,
   "id": "2e1f235d",
   "metadata": {},
   "outputs": [],
   "source": [
    "from langchain.chat_models import ChatOpenAI\n",
    "\n",
    "llm = ChatOpenAI(\n",
    "    temperature=0.01,\n",
    "    model=\"deepseek-chat\",  \n",
    "    openai_api_key = \"sk-9846f14a2104490b960adbf5c5b3b32e\",\n",
    "    openai_api_base=\"https://api.deepseek.com\"\n",
    ")\n",
    "\n",
    "# 需要设置llm\n",
    "toolkit = SQLDatabaseToolkit(db=db, llm=llm)\n",
    "\n",
    "agent_executor = create_sql_agent(\n",
    "    llm=llm,\n",
    "    toolkit=toolkit,\n",
    "    verbose=True\n",
    ")"
   ]
  },
  {
   "cell_type": "code",
   "execution_count": 6,
   "id": "8d555755",
   "metadata": {},
   "outputs": [
    {
     "name": "stdout",
     "output_type": "stream",
     "text": [
      "\n",
      "\n",
      "\u001b[1m> Entering new SQL Agent Executor chain...\u001b[0m\n",
      "\u001b[32;1m\u001b[1;3mAction: sql_db_list_tables\n",
      "\u001b[32;1m\u001b[1;3mI see several tables that might be related to orders, particularly \"orders\" and \"customers\". I should examine their schemas to understand their structure and relationships.nt, team, team_score, test_work, trips, user, users, using, weather\u001b[0m\n",
      "\n",
      "Action: sql_db_schema\n",
      "Action Input: orders, customers\u001b[0m\u001b[33;1m\u001b[1;3m\n",
      "CREATE TABLE customers (\n",
      "\t`Id` INTEGER, \n",
      "\t`Name` VARCHAR(255)\n",
      ")ENGINE=InnoDB DEFAULT CHARSET=utf8mb3\n",
      "\n",
      "/*\n",
      "3 rows from customers table:\n",
      "Id\tName\n",
      "1\tJoe\n",
      "2\tHenry\n",
      "3\tSam\n",
      "*/\n",
      "\n",
      "\n",
      "CREATE TABLE orders (\n",
      "\t`Id` INTEGER, \n",
      "\t`CustomerId` INTEGER\n",
      ")ENGINE=InnoDB DEFAULT CHARSET=utf8mb3\n",
      "\n",
      "/*\n",
      "3 rows from orders table:\n",
      "Id\tCustomerId\n",
      "1\t3\n",
      "2\t1\n",
      "\u001b[32;1m\u001b[1;3mFrom examining the schema, I can see that:\n",
      "\n",
      "1. The `orders` table contains:\n",
      "   - `Id` (order ID)\n",
      "   - `CustomerId` (which references the customer who placed the order)\n",
      "\n",
      "2. The `customers` table contains:\n",
      "   - `Id` (customer ID)\n",
      "   - `Name` (customer name)\n",
      "\n",
      "The relationship between these tables is:\n",
      "- The `CustomerId` field in the `orders` table is a foreign key that references the `Id` field in the `customers` table\n",
      "- This represents a one-to-many relationship where one customer can have many orders\n",
      "\n",
      "Final Answer: 数据库中有两个与订单相关的表：`orders`(订单表)和`customers`(客户表)。`orders`表包含订单ID和客户ID字段，`customers`表包含客户ID和客户名字段。两者通过`orders.CustomerId`与`customers.Id`的关联建立关系，表示一个客户可以有多笔订单。\u001b[0m\n",
      "\n",
      "\u001b[1m> Finished chain.\u001b[0m\n"
     ]
    },
    {
     "data": {
      "text/plain": [
       "{'input': '描述与订单相关的表及其关系',\n",
       " 'output': '数据库中有两个与订单相关的表：`orders`(订单表)和`customers`(客户表)。`orders`表包含订单ID和客户ID字段，`customers`表包含客户ID和客户名字段。两者通过`orders.CustomerId`与`customers.Id`的关联建立关系，表示一个客户可以有多笔订单。'}"
      ]
     },
     "execution_count": 6,
     "metadata": {},
     "output_type": "execute_result"
    }
   ],
   "source": [
    "# Task: 描述数据表\n",
    "#agent_executor.run(\"描述与订单相关的表及其关系\")\n",
    "agent_executor.invoke(\"描述与订单相关的表及其关系\")"
   ]
  },
  {
   "cell_type": "code",
   "execution_count": 7,
   "id": "42b90d3c",
   "metadata": {},
   "outputs": [
    {
     "name": "stdout",
     "output_type": "stream",
     "text": [
      "\n",
      "\n",
      "\u001b[1m> Entering new SQL Agent Executor chain...\u001b[0m\n",
      "\u001b[32;1m\u001b[1;3mAction: sql_db_list_tables\n",
      "\u001b[32;1m\u001b[1;3mI see that there is a table called \"heros\" which might be related to \"HeroDetails\". I should check the schema of this table to understand its structure. player_score, student, team, team_score, test_work, trips, user, users, using, weather\u001b[0m\n",
      "\n",
      "Action: sql_db_schema\n",
      "Action Input: heros\u001b[0m\u001b[33;1m\u001b[1;3m\n",
      "CREATE TABLE heros (\n",
      "\tid INTEGER NOT NULL AUTO_INCREMENT, \n",
      "\tname VARCHAR(255) CHARACTER SET utf8 COLLATE utf8_general_ci NOT NULL, \n",
      "\thp_max FLOAT, \n",
      "\thp_growth FLOAT, \n",
      "\thp_start FLOAT, \n",
      "\tmp_max FLOAT, \n",
      "\tmp_growth FLOAT, \n",
      "\tmp_start FLOAT, \n",
      "\tattack_max FLOAT, \n",
      "\tattack_growth FLOAT, \n",
      "\tattack_start FLOAT, \n",
      "\tdefense_max FLOAT, \n",
      "\tdefense_growth FLOAT, \n",
      "\tdefense_start FLOAT, \n",
      "\thp_5s_max FLOAT, \n",
      "\thp_5s_growth FLOAT, \n",
      "\thp_5s_start FLOAT, \n",
      "\tmp_5s_max FLOAT, \n",
      "\tmp_5s_growth FLOAT, \n",
      "\tmp_5s_start FLOAT, \n",
      "\tattack_speed_max FLOAT, \n",
      "\tattack_range VARCHAR(255) CHARACTER SET utf8 COLLATE utf8_general_ci, \n",
      "\trole_main VARCHAR(255) CHARACTER SET utf8 COLLATE utf8_general_ci, \n",
      "\trole_assist VARCHAR(255) CHARACTER SET utf8 COLLATE utf8_general_ci, \n",
      "\tbirthdate DATE, \n",
      "\tPRIMARY KEY (id)\n",
      ")ENGINE=InnoDB DEFAULT CHARSET=utf8mb3\n",
      "\n",
      "/*\n",
      "3 rows from heros table:\n",
      "id\tname\thp_max\thp_growth\thp_start\tmp_max\tmp_growth\tmp_start\tattack_max\tattack_growth\tattack_start\tdefense_max\tdefense_growth\tdefense_start\thp_5s_max\thp_5s_growth\thp_5s_start\tmp_5s_max\tmp_5s_growth\tmp_5s_start\tattack_speed_max\tattack_range\trole_main\trole_assist\tbirthdate\n",
      "10000\t夏侯惇\t7350.0\t288.8\t3307.0\t1746.0\t94.0\t430.0\t321.0\t11.57\t159.0\t397.0\t21.14\t101.0\t98.0\t3.357\t51.0\t37.0\t1.571\t15.0\t0.0\t近战\t坦克\t战士\t2016-07-19\n",
      "10001\t钟无艳\t7000.0\t275.0\t3150.0\t1760.0\t95.0\t430.0\t318.0\t11.0\t164.0\t409.0\t22.07\t100.0\t92.0\t3.143\t48.0\t37.0\t1.571\t15.0\t0.0\t近战\t战士\t坦克\t2021-05-01\n",
      "10002\t钟\t8341.0\t329.4\t3450.0\t100.0\t0.0\t100.0\t301.0\t10.57\t153.0\t504.0\t27.07\t125.0\t115.0\t4.143\t57.0\t5.0\t0.0\t5.0\t0.0\t近战\t坦克\t辅助\t2012-05-04\n",
      "\u001b[32;1m\u001b[1;3mI now understand the structure of the \"heros\" table, which appears to be the table the user is referring to as \"HeroDetails\" (likely a translation or alternative name). Here's the description:\n",
      "\n",
      "Final Answer: \n",
      "The \"heros\" table (likely equivalent to \"HeroDetails\") contains detailed statistics about game heroes with the following columns:\n",
      "- Basic info: id (primary key), name, birthdate\n",
      "- Health stats: hp_max, hp_growth, hp_start\n",
      "- Mana stats: mp_max, mp_growth, mp_start\n",
      "- Combat stats: attack_max, attack_growth, attack_start, defense_max, defense_growth, defense_start\n",
      "- Regeneration stats: hp_5s_max, hp_5s_growth, hp_5s_start, mp_5s_max, mp_5s_growth, mp_5s_start\n",
      "- Other combat attributes: attack_speed_max, attack_range\n",
      "- Role information: role_main, role_assist\n",
      "\n",
      "The table tracks hero attributes at different growth stages (start values, growth rates, and maximum values). Sample heroes include \"夏侯惇\" (Xiahou Dun), \"钟无艳\" (Zhong Wuyan), and \"钟\" (Zhong).\u001b[0m\n",
      "\n",
      "\u001b[1m> Finished chain.\u001b[0m\n"
     ]
    },
    {
     "data": {
      "text/plain": [
       "'The \"heros\" table (likely equivalent to \"HeroDetails\") contains detailed statistics about game heroes with the following columns:\\n- Basic info: id (primary key), name, birthdate\\n- Health stats: hp_max, hp_growth, hp_start\\n- Mana stats: mp_max, mp_growth, mp_start\\n- Combat stats: attack_max, attack_growth, attack_start, defense_max, defense_growth, defense_start\\n- Regeneration stats: hp_5s_max, hp_5s_growth, hp_5s_start, mp_5s_max, mp_5s_growth, mp_5s_start\\n- Other combat attributes: attack_speed_max, attack_range\\n- Role information: role_main, role_assist\\n\\nThe table tracks hero attributes at different growth stages (start values, growth rates, and maximum values). Sample heroes include \"夏侯惇\" (Xiahou Dun), \"钟无艳\" (Zhong Wuyan), and \"钟\" (Zhong).'"
      ]
     },
     "execution_count": 7,
     "metadata": {},
     "output_type": "execute_result"
    }
   ],
   "source": [
    "# 这个任务，实际上数据库中 没有HeroDetails表\n",
    "agent_executor.run(\"描述HeroDetails表\")"
   ]
  },
  {
   "cell_type": "code",
   "execution_count": 10,
   "id": "2c1e15b5",
   "metadata": {},
   "outputs": [
    {
     "name": "stdout",
     "output_type": "stream",
     "text": [
      "\n",
      "\n",
      "\u001b[1m> Entering new SQL Agent Executor chain...\u001b[0m\n",
      "\u001b[32;1m\u001b[1;3mAction: sql_db_list_tables\n",
      "\u001b[32;1m\u001b[1;3mI see that there are tables named \"heros\" and \"hero_score\" which might be relevant to the question about \"Hero表\". I should check the schema of these tables to understand their structure.am_score, test_work, trips, user, users, using, weather\u001b[0m\n",
      "\n",
      "Action: sql_db_schema\n",
      "Action Input: \"heros, hero_score\"\u001b[0m\u001b[33;1m\u001b[1;3m\n",
      "CREATE TABLE hero_score (\n",
      "\tid INTEGER NOT NULL AUTO_INCREMENT, \n",
      "\tscore INTEGER NOT NULL DEFAULT '0', \n",
      "\tname VARCHAR(20) CHARACTER SET utf8mb4 COLLATE utf8mb4_0900_ai_ci, \n",
      "\tPRIMARY KEY (id)\n",
      ")ENGINE=InnoDB DEFAULT CHARSET=utf8mb4 COLLATE utf8mb4_0900_ai_ci\n",
      "\n",
      "/*\n",
      "3 rows from hero_score table:\n",
      "id\tscore\tname\n",
      "1\t80\t张飞\n",
      "2\t95\t关羽\n",
      "3\t92\t刘备\n",
      "*/\n",
      "\n",
      "\n",
      "CREATE TABLE heros (\n",
      "\tid INTEGER NOT NULL AUTO_INCREMENT, \n",
      "\tname VARCHAR(255) CHARACTER SET utf8 COLLATE utf8_general_ci NOT NULL, \n",
      "\thp_max FLOAT, \n",
      "\thp_growth FLOAT, \n",
      "\thp_start FLOAT, \n",
      "\tmp_max FLOAT, \n",
      "\tmp_growth FLOAT, \n",
      "\tmp_start FLOAT, \n",
      "\tattack_max FLOAT, \n",
      "\tattack_growth FLOAT, \n",
      "\tattack_start FLOAT, \n",
      "\tdefense_max FLOAT, \n",
      "\tdefense_growth FLOAT, \n",
      "\tdefense_start FLOAT, \n",
      "\thp_5s_max FLOAT, \n",
      "\thp_5s_growth FLOAT, \n",
      "\thp_5s_start FLOAT, \n",
      "\tmp_5s_max FLOAT, \n",
      "\tmp_5s_growth FLOAT, \n",
      "\tmp_5s_start FLOAT, \n",
      "\tattack_speed_max FLOAT, \n",
      "\tattack_range VARCHAR(255) CHARACTER SET utf8 COLLATE utf8_general_ci, \n",
      "\trole_main VARCHAR(255) CHARACTER SET utf8 COLLATE utf8_general_ci, \n",
      "\trole_assist VARCHAR(255) CHARACTER SET utf8 COLLATE utf8_general_ci, \n",
      "\tbirthdate DATE, \n",
      "\tPRIMARY KEY (id)\n",
      ")ENGINE=InnoDB DEFAULT CHARSET=utf8mb3\n",
      "\n",
      "/*\n",
      "3 rows from heros table:\n",
      "id\tname\thp_max\thp_growth\thp_start\tmp_max\tmp_growth\tmp_start\tattack_max\tattack_growth\tattack_start\tdefense_max\tdefense_growth\tdefense_start\thp_5s_max\thp_5s_growth\thp_5s_start\tmp_5s_max\tmp_5s_growth\tmp_5s_start\tattack_speed_max\tattack_range\trole_main\trole_assist\tbirthdate\n",
      "10000\t夏侯惇\t7350.0\t288.8\t3307.0\t1746.0\t94.0\t430.0\t321.0\t11.57\t159.0\t397.0\t21.14\t101.0\t98.0\t3.357\t51.0\t37.0\t1.571\t15.0\t0.0\t近战\t坦克\t战士\t2016-07-19\n",
      "10001\t钟无艳\t7000.0\t275.0\t3150.0\t1760.0\t95.0\t430.0\t318.0\t11.0\t164.0\t409.0\t22.07\t100.0\t92.0\t3.143\t48.0\t37.0\t1.571\t15.0\t0.0\t近战\t战士\t坦克\t2021-05-01\n",
      "10002\t钟\t8341.0\t329.4\t3450.0\t100.0\t0.0\t100.0\t301.0\t10.57\t153.0\t504.0\t27.07\t125.0\t115.0\t4.143\t57.0\t5.0\t0.0\t5.0\t0.0\t近战\t坦克\t辅助\t2012-05-04\n",
      "\u001b[32;1m\u001b[1;3mI now understand the structure of both tables related to \"Hero\". The \"heros\" table contains detailed information about heroes including their attributes, growth rates, roles, and birthdates. The \"hero_score\" table contains simpler information about heroes' scores and names.\n",
      "\n",
      "Final Answer: \n",
      "Hero表在数据库中有两个相关表：\n",
      "1. heros表 - 包含英雄的详细属性信息：\n",
      "   - 基础字段：id, name\n",
      "   - 生命值相关：hp_max, hp_growth, hp_start\n",
      "   - 法力值相关：mp_max, mp_growth, mp_start\n",
      "   - 攻击相关：attack_max, attack_growth, attack_start\n",
      "   - 防御相关：defense_max, defense_growth, defense_start\n",
      "   - 恢复相关：hp_5s_max, hp_5s_growth, hp_5s_start, mp_5s_max, mp_5s_growth, mp_5s_start\n",
      "   - 战斗属性：attack_speed_max, attack_range\n",
      "   - 角色信息：role_main, role_assist\n",
      "   - 其他：birthdate\n",
      "\n",
      "2. hero_score表 - 包含英雄的评分信息：\n",
      "   - id: 主键\n",
      "   - score: 英雄得分\n",
      "   - name: 英雄名称\n",
      "\n",
      "示例数据：\n",
      "- heros表中有夏侯惇、钟无艳等英雄的详细数据\n",
      "- hero_score表中有张飞(80分)、关羽(95分)、刘备(92分)等英雄的评分数据\u001b[0m\n",
      "\n",
      "\u001b[1m> Finished chain.\u001b[0m\n"
     ]
    },
    {
     "data": {
      "text/plain": [
       "'Hero表在数据库中有两个相关表：\\n1. heros表 - 包含英雄的详细属性信息：\\n   - 基础字段：id, name\\n   - 生命值相关：hp_max, hp_growth, hp_start\\n   - 法力值相关：mp_max, mp_growth, mp_start\\n   - 攻击相关：attack_max, attack_growth, attack_start\\n   - 防御相关：defense_max, defense_growth, defense_start\\n   - 恢复相关：hp_5s_max, hp_5s_growth, hp_5s_start, mp_5s_max, mp_5s_growth, mp_5s_start\\n   - 战斗属性：attack_speed_max, attack_range\\n   - 角色信息：role_main, role_assist\\n   - 其他：birthdate\\n\\n2. hero_score表 - 包含英雄的评分信息：\\n   - id: 主键\\n   - score: 英雄得分\\n   - name: 英雄名称\\n\\n示例数据：\\n- heros表中有夏侯惇、钟无艳等英雄的详细数据\\n- hero_score表中有张飞(80分)、关羽(95分)、刘备(92分)等英雄的评分数据'"
      ]
     },
     "execution_count": 10,
     "metadata": {},
     "output_type": "execute_result"
    }
   ],
   "source": [
    "agent_executor.run(\"描述Hero表\")"
   ]
  },
  {
   "cell_type": "code",
   "execution_count": 11,
   "id": "5c030007",
   "metadata": {},
   "outputs": [
    {
     "name": "stdout",
     "output_type": "stream",
     "text": [
      "\n",
      "\n",
      "\u001b[1m> Entering new SQL Agent Executor chain...\u001b[0m\n",
      "\u001b[32;1m\u001b[1;3mAction: sql_db_list_tables\n",
      "\u001b[32;1m\u001b[1;3mBased on the question about finding heroes with the highest attack power, the most relevant tables seem to be `heros` or `hero_score`. I'll check the schema of these tables to find the relevant columns.k, trips, user, users, using, weather\u001b[0m\n",
      "\n",
      "Action: sql_db_schema\n",
      "Action Input: heros, hero_score\u001b[0m\u001b[33;1m\u001b[1;3m\n",
      "CREATE TABLE hero_score (\n",
      "\tid INTEGER NOT NULL AUTO_INCREMENT, \n",
      "\tscore INTEGER NOT NULL DEFAULT '0', \n",
      "\tname VARCHAR(20) CHARACTER SET utf8mb4 COLLATE utf8mb4_0900_ai_ci, \n",
      "\tPRIMARY KEY (id)\n",
      ")ENGINE=InnoDB DEFAULT CHARSET=utf8mb4 COLLATE utf8mb4_0900_ai_ci\n",
      "\n",
      "/*\n",
      "3 rows from hero_score table:\n",
      "id\tscore\tname\n",
      "1\t80\t张飞\n",
      "2\t95\t关羽\n",
      "3\t92\t刘备\n",
      "*/\n",
      "\n",
      "\n",
      "CREATE TABLE heros (\n",
      "\tid INTEGER NOT NULL AUTO_INCREMENT, \n",
      "\tname VARCHAR(255) CHARACTER SET utf8 COLLATE utf8_general_ci NOT NULL, \n",
      "\thp_max FLOAT, \n",
      "\thp_growth FLOAT, \n",
      "\thp_start FLOAT, \n",
      "\tmp_max FLOAT, \n",
      "\tmp_growth FLOAT, \n",
      "\tmp_start FLOAT, \n",
      "\tattack_max FLOAT, \n",
      "\tattack_growth FLOAT, \n",
      "\tattack_start FLOAT, \n",
      "\tdefense_max FLOAT, \n",
      "\tdefense_growth FLOAT, \n",
      "\tdefense_start FLOAT, \n",
      "\thp_5s_max FLOAT, \n",
      "\thp_5s_growth FLOAT, \n",
      "\thp_5s_start FLOAT, \n",
      "\tmp_5s_max FLOAT, \n",
      "\tmp_5s_growth FLOAT, \n",
      "\tmp_5s_start FLOAT, \n",
      "\tattack_speed_max FLOAT, \n",
      "\tattack_range VARCHAR(255) CHARACTER SET utf8 COLLATE utf8_general_ci, \n",
      "\trole_main VARCHAR(255) CHARACTER SET utf8 COLLATE utf8_general_ci, \n",
      "\trole_assist VARCHAR(255) CHARACTER SET utf8 COLLATE utf8_general_ci, \n",
      "\tbirthdate DATE, \n",
      "\tPRIMARY KEY (id)\n",
      ")ENGINE=InnoDB DEFAULT CHARSET=utf8mb3\n",
      "\n",
      "/*\n",
      "3 rows from heros table:\n",
      "id\tname\thp_max\thp_growth\thp_start\tmp_max\tmp_growth\tmp_start\tattack_max\tattack_growth\tattack_start\tdefense_max\tdefense_growth\tdefense_start\thp_5s_max\thp_5s_growth\thp_5s_start\tmp_5s_max\tmp_5s_growth\tmp_5s_start\tattack_speed_max\tattack_range\trole_main\trole_assist\tbirthdate\n",
      "10000\t夏侯惇\t7350.0\t288.8\t3307.0\t1746.0\t94.0\t430.0\t321.0\t11.57\t159.0\t397.0\t21.14\t101.0\t98.0\t3.357\t51.0\t37.0\t1.571\t15.0\t0.0\t近战\t坦克\t战士\t2016-07-19\n",
      "10001\t钟无艳\t7000.0\t275.0\t3150.0\t1760.0\t95.0\t430.0\t318.0\t11.0\t164.0\t409.0\t22.07\t100.0\t92.0\t3.143\t48.0\t37.0\t1.571\t15.0\t0.0\t近战\t战士\t坦克\t2021-05-01\n",
      "10002\t钟\t8341.0\t329.4\t3450.0\t100.0\t0.0\t100.0\t301.0\t10.57\t153.0\t504.0\t27.07\t125.0\t115.0\t4.143\t57.0\t5.0\t0.0\t5.0\t0.0\t近战\t坦克\t辅助\t2012-05-04\n",
      "\u001b[32;1m\u001b[1;3mThe `heros` table contains the `attack_max` column which seems to represent the maximum attack power of heroes. I'll query this table to find the top 5 heroes with the highest attack power.\n",
      "\n",
      "Action: sql_db_query_checker\n",
      "\u001b[36;1m\u001b[1;3mThe original query does not contain any of the common mistakes listed. Here is the reproduced original query:\n",
      "\n",
      "```sql\n",
      "SELECT name, attack_max FROM heros ORDER BY attack_max DESC LIMIT 5\n",
      "\u001b[32;1m\u001b[1;3mThe query looks correct and ready to execute. I'll now run it to get the results.\n",
      "\n",
      "Action: sql_db_query\n",
      "\u001b[32;1m\u001b[1;3mI now have the results showing the top 5 heroes with the highest attack power.m\u001b[1;3m[('阿轲', 427.0), ('孙尚香', 411.0), ('百里守约', 410.0), ('虞姬', 407.0), ('黄忠', 403.0)]\u001b[0m\n",
      "\n",
      "Final Answer: 攻击力最高的前5个英雄是：\n",
      "1. 阿轲 (427)\n",
      "2. 孙尚香 (411)\n",
      "3. 百里守约 (410)\n",
      "4. 虞姬 (407)\n",
      "5. 黄忠 (403)\u001b[0m\n",
      "\n",
      "\u001b[1m> Finished chain.\u001b[0m\n"
     ]
    },
    {
     "data": {
      "text/plain": [
       "'攻击力最高的前5个英雄是：\\n1. 阿轲 (427)\\n2. 孙尚香 (411)\\n3. 百里守约 (410)\\n4. 虞姬 (407)\\n5. 黄忠 (403)'"
      ]
     },
     "execution_count": 11,
     "metadata": {},
     "output_type": "execute_result"
    }
   ],
   "source": [
    "agent_executor.run(\"找出英雄攻击力最高的前5个英雄\")"
   ]
  },
  {
   "cell_type": "code",
   "execution_count": null,
   "id": "de1d1c90-863e-495e-90a5-25e6a281611e",
   "metadata": {},
   "outputs": [],
   "source": []
  }
 ],
 "metadata": {
  "kernelspec": {
   "display_name": "Python 3 (ipykernel)",
   "language": "python",
   "name": "python3"
  },
  "language_info": {
   "codemirror_mode": {
    "name": "ipython",
    "version": 3
   },
   "file_extension": ".py",
   "mimetype": "text/x-python",
   "name": "python",
   "nbconvert_exporter": "python",
   "pygments_lexer": "ipython3",
   "version": "3.12.11"
  }
 },
 "nbformat": 4,
 "nbformat_minor": 5
}
