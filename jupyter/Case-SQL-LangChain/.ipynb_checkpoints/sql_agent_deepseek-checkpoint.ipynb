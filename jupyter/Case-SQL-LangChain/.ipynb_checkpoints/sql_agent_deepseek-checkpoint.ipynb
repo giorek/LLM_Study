{
 "cells": [
  {
   "cell_type": "markdown",
   "id": "6b68edc5-77f7-4e4c-83b5-eb6c6de36f9a",
   "metadata": {},
   "source": [
    "## 使用DeepSeek进行数据表的查询"
   ]
  },
  {
   "cell_type": "code",
   "execution_count": 1,
   "id": "b2381dc3",
   "metadata": {},
   "outputs": [
    {
     "data": {
      "text/plain": [
       "<langchain_community.utilities.sql_database.SQLDatabase at 0x19777fb8490>"
      ]
     },
     "execution_count": 1,
     "metadata": {},
     "output_type": "execute_result"
    }
   ],
   "source": [
    "from langchain.agents import create_sql_agent\n",
    "from langchain.agents.agent_toolkits import SQLDatabaseToolkit\n",
    "from langchain.sql_database import SQLDatabase\n",
    "from langchain.llms.openai import OpenAI\n",
    "from langchain.agents import AgentExecutor\n",
    "\n",
    "db_user = \"student123\"\n",
    "db_password = \"student321\"\n",
    "#db_host = \"localhost:3306\"\n",
    "db_host = \"rm-uf6z891lon6dxuqblqo.mysql.rds.aliyuncs.com:3306\"\n",
    "db_name = \"action\"\n",
    "db = SQLDatabase.from_uri(f\"mysql+pymysql://{db_user}:{db_password}@{db_host}/{db_name}\")\n",
    "db"
   ]
  },
  {
   "cell_type": "code",
   "execution_count": 2,
   "id": "2e1f235d",
   "metadata": {},
   "outputs": [
    {
     "name": "stderr",
     "output_type": "stream",
     "text": [
      "C:\\Users\\cheny\\AppData\\Local\\Temp\\ipykernel_43872\\3243498850.py:3: LangChainDeprecationWarning: The class `ChatOpenAI` was deprecated in LangChain 0.0.10 and will be removed in 1.0. An updated version of the class exists in the langchain-openai package and should be used instead. To use it run `pip install -U langchain-openai` and import as `from langchain_openai import ChatOpenAI`.\n",
      "  llm = ChatOpenAI(\n"
     ]
    }
   ],
   "source": [
    "from langchain.chat_models import ChatOpenAI\n",
    "\n",
    "llm = ChatOpenAI(\n",
    "    temperature=0.01,\n",
    "    model=\"deepseek-chat\",  \n",
    "    openai_api_key = \"sk-9846f14a2104490b960adbf5c5b3b32e\",\n",
    "    openai_api_base=\"https://api.deepseek.com\"\n",
    ")\n",
    "\n",
    "# 需要设置llm\n",
    "toolkit = SQLDatabaseToolkit(db=db, llm=llm)\n",
    "\n",
    "agent_executor = create_sql_agent(\n",
    "    llm=llm,\n",
    "    toolkit=toolkit,\n",
    "    verbose=True\n",
    ")"
   ]
  },
  {
   "cell_type": "code",
   "execution_count": 4,
   "id": "8d555755",
   "metadata": {},
   "outputs": [
    {
     "name": "stdout",
     "output_type": "stream",
     "text": [
      "\n",
      "\n",
      "\u001b[1m> Entering new SQL Agent Executor chain...\u001b[0m\n",
      "\u001b[32;1m\u001b[1;3mAction: sql_db_list_tables\n",
      "Action Input: \u001b[0m\u001b[38;5;200m\u001b[1;3maddress, asset_grades, bank, car_sales, customers, dept, employee, form, height_grades, hero_score, heros, orders, person, player, player_score, student, team, team_score, test_work, trips, user, users, using, weather\u001b[0m\u001b[32;1m\u001b[1;3mI see several tables that might be related to orders, particularly \"orders\" and \"customers\". I should examine their schemas to understand their structure and relationships.\n",
      "\n",
      "Action: sql_db_schema\n",
      "Action Input: orders, customers\u001b[0m\u001b[33;1m\u001b[1;3m\n",
      "CREATE TABLE customers (\n",
      "\t`Id` INTEGER, \n",
      "\t`Name` VARCHAR(255)\n",
      ")DEFAULT CHARSET=utf8mb3 ENGINE=InnoDB\n",
      "\n",
      "/*\n",
      "3 rows from customers table:\n",
      "Id\tName\n",
      "1\tJoe\n",
      "2\tHenry\n",
      "3\tSam\n",
      "*/\n",
      "\n",
      "\n",
      "CREATE TABLE orders (\n",
      "\t`Id` INTEGER, \n",
      "\t`CustomerId` INTEGER\n",
      ")DEFAULT CHARSET=utf8mb3 ENGINE=InnoDB\n",
      "\n",
      "/*\n",
      "3 rows from orders table:\n",
      "Id\tCustomerId\n",
      "1\t3\n",
      "2\t1\n",
      "*/\u001b[0m\u001b[32;1m\u001b[1;3mFrom examining the schema, I can see that:\n",
      "\n",
      "1. The `orders` table contains:\n",
      "   - `Id` (order ID)\n",
      "   - `CustomerId` (which references the customer who placed the order)\n",
      "\n",
      "2. The `customers` table contains:\n",
      "   - `Id` (customer ID)\n",
      "   - `Name` (customer name)\n",
      "\n",
      "The relationship between these tables is:\n",
      "- The `CustomerId` field in the `orders` table is a foreign key that references the `Id` field in the `customers` table\n",
      "- This represents a one-to-many relationship where one customer can have many orders\n",
      "\n",
      "This is a simple but typical order tracking system where orders are linked to the customers who placed them. The relationship allows us to query which customer placed which order.\n",
      "\n",
      "Final Answer: 数据库中有两个与订单相关的表：orders（订单表）和customers（客户表）。orders表包含订单ID和客户ID字段，customers表包含客户ID和客户名字段。两者通过orders表的CustomerId字段与customers表的Id字段相关联，建立了一对多的关系（一个客户可以有多笔订单）。\u001b[0m\n",
      "\n",
      "\u001b[1m> Finished chain.\u001b[0m\n"
     ]
    },
    {
     "data": {
      "text/plain": [
       "'数据库中有两个与订单相关的表：orders（订单表）和customers（客户表）。orders表包含订单ID和客户ID字段，customers表包含客户ID和客户名字段。两者通过orders表的CustomerId字段与customers表的Id字段相关联，建立了一对多的关系（一个客户可以有多笔订单）。'"
      ]
     },
     "execution_count": 4,
     "metadata": {},
     "output_type": "execute_result"
    }
   ],
   "source": [
    "# Task: 描述数据表\n",
    "agent_executor.run(\"描述与订单相关的表及其关系\")"
   ]
  },
  {
   "cell_type": "code",
   "execution_count": 4,
   "id": "42b90d3c",
   "metadata": {},
   "outputs": [
    {
     "name": "stdout",
     "output_type": "stream",
     "text": [
      "\n",
      "\n",
      "\u001b[1m> Entering new SQL Agent Executor chain...\u001b[0m\n",
      "\u001b[32;1m\u001b[1;3mAction: sql_db_list_tables\n",
      "Action Input: \u001b[0m\u001b[38;5;200m\u001b[1;3maddress, asset_grades, bank, car_sales, customers, dept, employee, form, height_grades, hero_score, heros, orders, person, player, player_score, student, team, team_score, test_work, trips, user, users, using, weather\u001b[0m\u001b[32;1m\u001b[1;3mI see that there is a table named \"heros\" which might be related to \"HeroDetails\". I will query the schema of the \"heros\" table to understand its structure and columns.\n",
      "\n",
      "Action: sql_db_schema\n",
      "Action Input: heros\u001b[0m\u001b[33;1m\u001b[1;3m\n",
      "CREATE TABLE heros (\n",
      "\tid INTEGER NOT NULL AUTO_INCREMENT, \n",
      "\tname VARCHAR(255) CHARACTER SET utf8 COLLATE utf8_general_ci NOT NULL, \n",
      "\thp_max FLOAT, \n",
      "\thp_growth FLOAT, \n",
      "\thp_start FLOAT, \n",
      "\tmp_max FLOAT, \n",
      "\tmp_growth FLOAT, \n",
      "\tmp_start FLOAT, \n",
      "\tattack_max FLOAT, \n",
      "\tattack_growth FLOAT, \n",
      "\tattack_start FLOAT, \n",
      "\tdefense_max FLOAT, \n",
      "\tdefense_growth FLOAT, \n",
      "\tdefense_start FLOAT, \n",
      "\thp_5s_max FLOAT, \n",
      "\thp_5s_growth FLOAT, \n",
      "\thp_5s_start FLOAT, \n",
      "\tmp_5s_max FLOAT, \n",
      "\tmp_5s_growth FLOAT, \n",
      "\tmp_5s_start FLOAT, \n",
      "\tattack_speed_max FLOAT, \n",
      "\tattack_range VARCHAR(255) CHARACTER SET utf8 COLLATE utf8_general_ci, \n",
      "\trole_main VARCHAR(255) CHARACTER SET utf8 COLLATE utf8_general_ci, \n",
      "\trole_assist VARCHAR(255) CHARACTER SET utf8 COLLATE utf8_general_ci, \n",
      "\tbirthdate DATE, \n",
      "\tPRIMARY KEY (id)\n",
      ")ENGINE=InnoDB DEFAULT CHARSET=utf8mb3\n",
      "\n",
      "/*\n",
      "3 rows from heros table:\n",
      "id\tname\thp_max\thp_growth\thp_start\tmp_max\tmp_growth\tmp_start\tattack_max\tattack_growth\tattack_start\tdefense_max\tdefense_growth\tdefense_start\thp_5s_max\thp_5s_growth\thp_5s_start\tmp_5s_max\tmp_5s_growth\tmp_5s_start\tattack_speed_max\tattack_range\trole_main\trole_assist\tbirthdate\n",
      "10000\t夏侯惇\t7350.0\t288.8\t3307.0\t1746.0\t94.0\t430.0\t321.0\t11.57\t159.0\t397.0\t21.14\t101.0\t98.0\t3.357\t51.0\t37.0\t1.571\t15.0\t0.0\t近战\t坦克\t战士\t2016-07-19\n",
      "10001\t钟无艳\t7000.0\t275.0\t3150.0\t1760.0\t95.0\t430.0\t318.0\t11.0\t164.0\t409.0\t22.07\t100.0\t92.0\t3.143\t48.0\t37.0\t1.571\t15.0\t0.0\t近战\t战士\t坦克\t2021-05-01\n",
      "10002\t钟\t8341.0\t329.4\t3450.0\t100.0\t0.0\t100.0\t301.0\t10.57\t153.0\t504.0\t27.07\t125.0\t115.0\t4.143\t57.0\t5.0\t0.0\t5.0\t0.0\t近战\t坦克\t辅助\t2012-05-04\n",
      "*/\u001b[0m\u001b[32;1m\u001b[1;3mThe \"heros\" table contains detailed information about heroes, including their attributes such as health points (HP), mana points (MP), attack, defense, and other growth-related stats. The table also includes information about their roles, attack range, and birthdate. \n",
      "\n",
      "Here is a summary of the columns in the \"heros\" table:\n",
      "- **id**: Unique identifier for each hero.\n",
      "- **name**: The name of the hero.\n",
      "- **hp_max**: Maximum health points.\n",
      "- **hp_growth**: Health points growth rate.\n",
      "- **hp_start**: Starting health points.\n",
      "- **mp_max**: Maximum mana points.\n",
      "- **mp_growth**: Mana points growth rate.\n",
      "- **mp_start**: Starting mana points.\n",
      "- **attack_max**: Maximum attack power.\n",
      "- **attack_growth**: Attack power growth rate.\n",
      "- **attack_start**: Starting attack power.\n",
      "- **defense_max**: Maximum defense power.\n",
      "- **defense_growth**: Defense power growth rate.\n",
      "- **defense_start**: Starting defense power.\n",
      "- **hp_5s_max**: Maximum health points regeneration per 5 seconds.\n",
      "- **hp_5s_growth**: Health points regeneration growth rate per 5 seconds.\n",
      "- **hp_5s_start**: Starting health points regeneration per 5 seconds.\n",
      "- **mp_5s_max**: Maximum mana points regeneration per 5 seconds.\n",
      "- **mp_5s_growth**: Mana points regeneration growth rate per 5 seconds.\n",
      "- **mp_5s_start**: Starting mana points regeneration per 5 seconds.\n",
      "- **attack_speed_max**: Maximum attack speed.\n",
      "- **attack_range**: The range of the hero's attack (e.g., melee or ranged).\n",
      "- **role_main**: The main role of the hero (e.g., tank, warrior).\n",
      "- **role_assist**: The secondary role of the hero.\n",
      "- **birthdate**: The birthdate of the hero.\n",
      "\n",
      "This table provides a comprehensive overview of the heroes' attributes and roles, which can be useful for analyzing their strengths and weaknesses.\n",
      "\n",
      "Final Answer: The \"heros\" table contains detailed information about heroes, including their attributes such as health points (HP), mana points (MP), attack, defense, and other growth-related stats. The table also includes information about their roles, attack range, and birthdate. The columns in the table are: id, name, hp_max, hp_growth, hp_start, mp_max, mp_growth, mp_start, attack_max, attack_growth, attack_start, defense_max, defense_growth, defense_start, hp_5s_max, hp_5s_growth, hp_5s_start, mp_5s_max, mp_5s_growth, mp_5s_start, attack_speed_max, attack_range, role_main, role_assist, and birthdate.\u001b[0m\n",
      "\n",
      "\u001b[1m> Finished chain.\u001b[0m\n"
     ]
    },
    {
     "data": {
      "text/plain": [
       "'The \"heros\" table contains detailed information about heroes, including their attributes such as health points (HP), mana points (MP), attack, defense, and other growth-related stats. The table also includes information about their roles, attack range, and birthdate. The columns in the table are: id, name, hp_max, hp_growth, hp_start, mp_max, mp_growth, mp_start, attack_max, attack_growth, attack_start, defense_max, defense_growth, defense_start, hp_5s_max, hp_5s_growth, hp_5s_start, mp_5s_max, mp_5s_growth, mp_5s_start, attack_speed_max, attack_range, role_main, role_assist, and birthdate.'"
      ]
     },
     "execution_count": 4,
     "metadata": {},
     "output_type": "execute_result"
    }
   ],
   "source": [
    "# 这个任务，实际上数据库中 没有HeroDetails表\n",
    "agent_executor.run(\"描述HeroDetails表\")"
   ]
  },
  {
   "cell_type": "code",
   "execution_count": 5,
   "id": "2c1e15b5",
   "metadata": {},
   "outputs": [
    {
     "name": "stdout",
     "output_type": "stream",
     "text": [
      "\n",
      "\n",
      "\u001b[1m> Entering new SQL Agent Executor chain...\u001b[0m\n",
      "\u001b[32;1m\u001b[1;3mAction: sql_db_list_tables\n",
      "Action Input: \u001b[0m\u001b[38;5;200m\u001b[1;3maddress, asset_grades, bank, car_sales, customers, dept, employee, form, height_grades, hero_score, heros, orders, person, player, player_score, student, team, team_score, test_work, trips, user, users, using, weather\u001b[0m\u001b[32;1m\u001b[1;3mI see that there is a table named \"heros\" in the database. I should query the schema of this table to understand its structure and columns.\n",
      "Action: sql_db_schema\n",
      "Action Input: heros\u001b[0m\u001b[33;1m\u001b[1;3m\n",
      "CREATE TABLE heros (\n",
      "\tid INTEGER NOT NULL AUTO_INCREMENT, \n",
      "\tname VARCHAR(255) CHARACTER SET utf8 COLLATE utf8_general_ci NOT NULL, \n",
      "\thp_max FLOAT, \n",
      "\thp_growth FLOAT, \n",
      "\thp_start FLOAT, \n",
      "\tmp_max FLOAT, \n",
      "\tmp_growth FLOAT, \n",
      "\tmp_start FLOAT, \n",
      "\tattack_max FLOAT, \n",
      "\tattack_growth FLOAT, \n",
      "\tattack_start FLOAT, \n",
      "\tdefense_max FLOAT, \n",
      "\tdefense_growth FLOAT, \n",
      "\tdefense_start FLOAT, \n",
      "\thp_5s_max FLOAT, \n",
      "\thp_5s_growth FLOAT, \n",
      "\thp_5s_start FLOAT, \n",
      "\tmp_5s_max FLOAT, \n",
      "\tmp_5s_growth FLOAT, \n",
      "\tmp_5s_start FLOAT, \n",
      "\tattack_speed_max FLOAT, \n",
      "\tattack_range VARCHAR(255) CHARACTER SET utf8 COLLATE utf8_general_ci, \n",
      "\trole_main VARCHAR(255) CHARACTER SET utf8 COLLATE utf8_general_ci, \n",
      "\trole_assist VARCHAR(255) CHARACTER SET utf8 COLLATE utf8_general_ci, \n",
      "\tbirthdate DATE, \n",
      "\tPRIMARY KEY (id)\n",
      ")ENGINE=InnoDB DEFAULT CHARSET=utf8mb3\n",
      "\n",
      "/*\n",
      "3 rows from heros table:\n",
      "id\tname\thp_max\thp_growth\thp_start\tmp_max\tmp_growth\tmp_start\tattack_max\tattack_growth\tattack_start\tdefense_max\tdefense_growth\tdefense_start\thp_5s_max\thp_5s_growth\thp_5s_start\tmp_5s_max\tmp_5s_growth\tmp_5s_start\tattack_speed_max\tattack_range\trole_main\trole_assist\tbirthdate\n",
      "10000\t夏侯惇\t7350.0\t288.8\t3307.0\t1746.0\t94.0\t430.0\t321.0\t11.57\t159.0\t397.0\t21.14\t101.0\t98.0\t3.357\t51.0\t37.0\t1.571\t15.0\t0.0\t近战\t坦克\t战士\t2016-07-19\n",
      "10001\t钟无艳\t7000.0\t275.0\t3150.0\t1760.0\t95.0\t430.0\t318.0\t11.0\t164.0\t409.0\t22.07\t100.0\t92.0\t3.143\t48.0\t37.0\t1.571\t15.0\t0.0\t近战\t战士\t坦克\t2021-05-01\n",
      "10002\t钟\t8341.0\t329.4\t3450.0\t100.0\t0.0\t100.0\t301.0\t10.57\t153.0\t504.0\t27.07\t125.0\t115.0\t4.143\t57.0\t5.0\t0.0\t5.0\t0.0\t近战\t坦克\t辅助\t2012-05-04\n",
      "*/\u001b[0m\u001b[32;1m\u001b[1;3mI now understand the structure of the \"heros\" table. It contains information about various heroes, including their attributes like health points (HP), mana points (MP), attack, defense, and other growth-related stats. The table also includes details about their roles, attack range, and birthdate.\n",
      "\n",
      "If you have any specific questions about the \"heros\" table or need data from it, feel free to ask! For example, you could ask for the top 10 heroes with the highest HP or heroes with a specific role.\n",
      "\n",
      "Final Answer: The \"heros\" table contains detailed information about heroes, including their HP, MP, attack, defense, growth stats, roles, attack range, and birthdate. Let me know if you'd like to query specific data from this table!\u001b[0m\n",
      "\n",
      "\u001b[1m> Finished chain.\u001b[0m\n"
     ]
    },
    {
     "data": {
      "text/plain": [
       "'The \"heros\" table contains detailed information about heroes, including their HP, MP, attack, defense, growth stats, roles, attack range, and birthdate. Let me know if you\\'d like to query specific data from this table!'"
      ]
     },
     "execution_count": 5,
     "metadata": {},
     "output_type": "execute_result"
    }
   ],
   "source": [
    "agent_executor.run(\"描述Hero表\")"
   ]
  },
  {
   "cell_type": "code",
   "execution_count": 6,
   "id": "5c030007",
   "metadata": {},
   "outputs": [
    {
     "name": "stdout",
     "output_type": "stream",
     "text": [
      "\n",
      "\n",
      "\u001b[1m> Entering new SQL Agent Executor chain...\u001b[0m\n",
      "\u001b[32;1m\u001b[1;3mAction: sql_db_list_tables\n",
      "Action Input: \u001b[0m\u001b[38;5;200m\u001b[1;3maddress, asset_grades, bank, car_sales, customers, dept, employee, form, height_grades, hero_score, heros, orders, person, player, player_score, student, team, team_score, test_work, trips, user, users, using, weather\u001b[0m\u001b[32;1m\u001b[1;3mThe most relevant table for this question seems to be \"heros\" or \"hero_score\". I will check the schema of these tables to find the relevant columns for hero attack power.\n",
      "\n",
      "Action: sql_db_schema\n",
      "Action Input: heros, hero_score\u001b[0m\u001b[33;1m\u001b[1;3m\n",
      "CREATE TABLE hero_score (\n",
      "\tid INTEGER NOT NULL AUTO_INCREMENT, \n",
      "\tscore INTEGER NOT NULL DEFAULT '0', \n",
      "\tname VARCHAR(20) CHARACTER SET utf8mb4 COLLATE utf8mb4_0900_ai_ci, \n",
      "\tPRIMARY KEY (id)\n",
      ")ENGINE=InnoDB COLLATE utf8mb4_0900_ai_ci DEFAULT CHARSET=utf8mb4\n",
      "\n",
      "/*\n",
      "3 rows from hero_score table:\n",
      "id\tscore\tname\n",
      "1\t80\t张飞\n",
      "2\t95\t关羽\n",
      "3\t92\t刘备\n",
      "*/\n",
      "\n",
      "\n",
      "CREATE TABLE heros (\n",
      "\tid INTEGER NOT NULL AUTO_INCREMENT, \n",
      "\tname VARCHAR(255) CHARACTER SET utf8 COLLATE utf8_general_ci NOT NULL, \n",
      "\thp_max FLOAT, \n",
      "\thp_growth FLOAT, \n",
      "\thp_start FLOAT, \n",
      "\tmp_max FLOAT, \n",
      "\tmp_growth FLOAT, \n",
      "\tmp_start FLOAT, \n",
      "\tattack_max FLOAT, \n",
      "\tattack_growth FLOAT, \n",
      "\tattack_start FLOAT, \n",
      "\tdefense_max FLOAT, \n",
      "\tdefense_growth FLOAT, \n",
      "\tdefense_start FLOAT, \n",
      "\thp_5s_max FLOAT, \n",
      "\thp_5s_growth FLOAT, \n",
      "\thp_5s_start FLOAT, \n",
      "\tmp_5s_max FLOAT, \n",
      "\tmp_5s_growth FLOAT, \n",
      "\tmp_5s_start FLOAT, \n",
      "\tattack_speed_max FLOAT, \n",
      "\tattack_range VARCHAR(255) CHARACTER SET utf8 COLLATE utf8_general_ci, \n",
      "\trole_main VARCHAR(255) CHARACTER SET utf8 COLLATE utf8_general_ci, \n",
      "\trole_assist VARCHAR(255) CHARACTER SET utf8 COLLATE utf8_general_ci, \n",
      "\tbirthdate DATE, \n",
      "\tPRIMARY KEY (id)\n",
      ")ENGINE=InnoDB DEFAULT CHARSET=utf8mb3\n",
      "\n",
      "/*\n",
      "3 rows from heros table:\n",
      "id\tname\thp_max\thp_growth\thp_start\tmp_max\tmp_growth\tmp_start\tattack_max\tattack_growth\tattack_start\tdefense_max\tdefense_growth\tdefense_start\thp_5s_max\thp_5s_growth\thp_5s_start\tmp_5s_max\tmp_5s_growth\tmp_5s_start\tattack_speed_max\tattack_range\trole_main\trole_assist\tbirthdate\n",
      "10000\t夏侯惇\t7350.0\t288.8\t3307.0\t1746.0\t94.0\t430.0\t321.0\t11.57\t159.0\t397.0\t21.14\t101.0\t98.0\t3.357\t51.0\t37.0\t1.571\t15.0\t0.0\t近战\t坦克\t战士\t2016-07-19\n",
      "10001\t钟无艳\t7000.0\t275.0\t3150.0\t1760.0\t95.0\t430.0\t318.0\t11.0\t164.0\t409.0\t22.07\t100.0\t92.0\t3.143\t48.0\t37.0\t1.571\t15.0\t0.0\t近战\t战士\t坦克\t2021-05-01\n",
      "10002\t钟\t8341.0\t329.4\t3450.0\t100.0\t0.0\t100.0\t301.0\t10.57\t153.0\t504.0\t27.07\t125.0\t115.0\t4.143\t57.0\t5.0\t0.0\t5.0\t0.0\t近战\t坦克\t辅助\t2012-05-04\n",
      "*/\u001b[0m\u001b[32;1m\u001b[1;3mThe \"heros\" table contains the relevant columns for hero attack power, specifically \"attack_max\" and \"name\". I will create a query to find the top 5 heroes with the highest attack power.\n",
      "\n",
      "Action: sql_db_query_checker\n",
      "Action Input: SELECT name, attack_max FROM heros ORDER BY attack_max DESC LIMIT 5\u001b[0m\u001b[36;1m\u001b[1;3m```sql\n",
      "SELECT name, attack_max FROM heros ORDER BY attack_max DESC LIMIT 5;\n",
      "```\u001b[0m\u001b[32;1m\u001b[1;3mThe query is correct and ready to be executed. I will now run the query to get the top 5 heroes with the highest attack power.\n",
      "\n",
      "Action: sql_db_query\n",
      "Action Input: SELECT name, attack_max FROM heros ORDER BY attack_max DESC LIMIT 5\u001b[0m\u001b[36;1m\u001b[1;3m[('阿轲', 427.0), ('孙尚香', 411.0), ('百里守约', 410.0), ('虞姬', 407.0), ('黄忠', 403.0)]\u001b[0m\u001b[32;1m\u001b[1;3mI now know the final answer.\n",
      "Final Answer: The top 5 heroes with the highest attack power are:\n",
      "1. 阿轲 with an attack power of 427.0\n",
      "2. 孙尚香 with an attack power of 411.0\n",
      "3. 百里守约 with an attack power of 410.0\n",
      "4. 虞姬 with an attack power of 407.0\n",
      "5. 黄忠 with an attack power of 403.0\u001b[0m\n",
      "\n",
      "\u001b[1m> Finished chain.\u001b[0m\n"
     ]
    },
    {
     "data": {
      "text/plain": [
       "'The top 5 heroes with the highest attack power are:\\n1. 阿轲 with an attack power of 427.0\\n2. 孙尚香 with an attack power of 411.0\\n3. 百里守约 with an attack power of 410.0\\n4. 虞姬 with an attack power of 407.0\\n5. 黄忠 with an attack power of 403.0'"
      ]
     },
     "execution_count": 6,
     "metadata": {},
     "output_type": "execute_result"
    }
   ],
   "source": [
    "agent_executor.run(\"找出英雄攻击力最高的前5个英雄\")"
   ]
  }
 ],
 "metadata": {
  "kernelspec": {
   "display_name": "Python 3 (ipykernel)",
   "language": "python",
   "name": "python3"
  },
  "language_info": {
   "codemirror_mode": {
    "name": "ipython",
    "version": 3
   },
   "file_extension": ".py",
   "mimetype": "text/x-python",
   "name": "python",
   "nbconvert_exporter": "python",
   "pygments_lexer": "ipython3",
   "version": "3.11.6"
  }
 },
 "nbformat": 4,
 "nbformat_minor": 5
}
